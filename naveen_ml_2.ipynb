{
 "cells": [
  {
   "cell_type": "markdown",
   "metadata": {},
   "source": [
    "\n",
    "# ML ASSIGNMENT 2\n",
    "\n",
    "\n",
    "#### Name : Naveen Vamshi\n",
    "#### RollNo : 160117733101"
   ]
  },
  {
   "cell_type": "code",
   "execution_count": 219,
   "metadata": {},
   "outputs": [],
   "source": [
    "import numpy as np\n",
    "import pandas as pd\n",
    "students = [('Naveen', 100, 'Hyderabad',99),\n",
    "            ('Vamshi', 101, 'Hyderabad', 90),\n",
    "            ('Anudeep', 86, 'Warangal', 80),\n",
    "            ('Nihal', 115, 'Hyderabad', 70),\n",
    "            ('Harsha', 320, 'Khammam', 60.5),\n",
    "            ('Sankeerth', 110, 'Hyderabad', 60),\n",
    "            ('Varun', 91, 'Vijaywada', 50)\n",
    "           ]\n"
   ]
  },
  {
   "cell_type": "code",
   "execution_count": 3,
   "metadata": {
    "scrolled": true
   },
   "outputs": [
    {
     "name": "stdout",
     "output_type": "stream",
     "text": [
      "        Name  Roll       City  Marks\n",
      "0     Naveen   100  Hyderabad   99.0\n",
      "1     Vamshi   101  Hyderabad   90.0\n",
      "2    Anudeep    86   Warangal   80.0\n",
      "3      Nihal   115  Hyderabad   70.0\n",
      "4     Harsha   320    Khammam   60.5\n",
      "5  Sankeerth   110  Hyderabad   60.0\n",
      "6      Varun    91  Vijaywada   50.0\n"
     ]
    }
   ],
   "source": [
    "df = pd.DataFrame(students,columns= ['Name','Roll','City','Marks'])\n",
    "print(df)"
   ]
  },
  {
   "cell_type": "code",
   "execution_count": 4,
   "metadata": {},
   "outputs": [
    {
     "name": "stdout",
     "output_type": "stream",
     "text": [
      "(7, 4)\n",
      "#nrow,ncol\n"
     ]
    }
   ],
   "source": [
    "#nrows #ncols\n",
    "print(df.shape)\n",
    "print(\"#nrow,ncol\")"
   ]
  },
  {
   "cell_type": "code",
   "execution_count": 5,
   "metadata": {},
   "outputs": [
    {
     "name": "stdout",
     "output_type": "stream",
     "text": [
      "#DataTypes\n",
      "Name      object\n",
      "Roll       int64\n",
      "City      object\n",
      "Marks    float64\n",
      "dtype: object\n"
     ]
    }
   ],
   "source": [
    "print(\"#DataTypes\")\n",
    "print(df.dtypes)"
   ]
  },
  {
   "cell_type": "code",
   "execution_count": 6,
   "metadata": {},
   "outputs": [
    {
     "name": "stdout",
     "output_type": "stream",
     "text": [
      "object     2\n",
      "int64      1\n",
      "float64    1\n",
      "dtype: int64\n"
     ]
    }
   ],
   "source": [
    "print(df.dtypes.value_counts())"
   ]
  },
  {
   "cell_type": "code",
   "execution_count": 7,
   "metadata": {},
   "outputs": [
    {
     "name": "stdout",
     "output_type": "stream",
     "text": [
      "describe function\n",
      "<bound method NDFrame.describe of         Name  Roll       City  Marks\n",
      "0     Naveen   100  Hyderabad   99.0\n",
      "1     Vamshi   101  Hyderabad   90.0\n",
      "2    Anudeep    86   Warangal   80.0\n",
      "3      Nihal   115  Hyderabad   70.0\n",
      "4     Harsha   320    Khammam   60.5\n",
      "5  Sankeerth   110  Hyderabad   60.0\n",
      "6      Varun    91  Vijaywada   50.0>\n"
     ]
    }
   ],
   "source": [
    "print(\"describe function\\n\"+str(df.describe))"
   ]
  },
  {
   "cell_type": "code",
   "execution_count": 8,
   "metadata": {},
   "outputs": [
    {
     "name": "stdout",
     "output_type": "stream",
     "text": [
      "#array\n",
      "[['Naveen' 100 'Hyderabad' 99.0]\n",
      " ['Vamshi' 101 'Hyderabad' 90.0]\n",
      " ['Anudeep' 86 'Warangal' 80.0]\n",
      " ['Nihal' 115 'Hyderabad' 70.0]\n",
      " ['Harsha' 320 'Khammam' 60.5]\n",
      " ['Sankeerth' 110 'Hyderabad' 60.0]\n",
      " ['Varun' 91 'Vijaywada' 50.0]]\n"
     ]
    }
   ],
   "source": [
    "print(\"#array\\n\"+str(df.to_numpy()))"
   ]
  },
  {
   "cell_type": "code",
   "execution_count": 10,
   "metadata": {},
   "outputs": [
    {
     "name": "stdout",
     "output_type": "stream",
     "text": [
      "#list\n",
      "[['Naveen', 100, 'Hyderabad', 99.0], ['Vamshi', 101, 'Hyderabad', 90.0], ['Anudeep', 86, 'Warangal', 80.0], ['Nihal', 115, 'Hyderabad', 70.0], ['Harsha', 320, 'Khammam', 60.5], ['Sankeerth', 110, 'Hyderabad', 60.0], ['Varun', 91, 'Vijaywada', 50.0]]\n"
     ]
    }
   ],
   "source": [
    "print(\"#list\\n\"+str(df.values.tolist()))"
   ]
  },
  {
   "cell_type": "code",
   "execution_count": 11,
   "metadata": {},
   "outputs": [],
   "source": [
    "#2.Extract the row and column number of a particular cell with given criterion?Rename a specific columns in a dataframe?"
   ]
  },
  {
   "cell_type": "code",
   "execution_count": 13,
   "metadata": {},
   "outputs": [
    {
     "data": {
      "text/html": [
       "<div>\n",
       "<style scoped>\n",
       "    .dataframe tbody tr th:only-of-type {\n",
       "        vertical-align: middle;\n",
       "    }\n",
       "\n",
       "    .dataframe tbody tr th {\n",
       "        vertical-align: top;\n",
       "    }\n",
       "\n",
       "    .dataframe thead th {\n",
       "        text-align: right;\n",
       "    }\n",
       "</style>\n",
       "<table border=\"1\" class=\"dataframe\">\n",
       "  <thead>\n",
       "    <tr style=\"text-align: right;\">\n",
       "      <th></th>\n",
       "      <th>Name</th>\n",
       "      <th>Roll</th>\n",
       "      <th>City</th>\n",
       "      <th>Marks</th>\n",
       "    </tr>\n",
       "  </thead>\n",
       "  <tbody>\n",
       "    <tr>\n",
       "      <th>1</th>\n",
       "      <td>Vamshi</td>\n",
       "      <td>101</td>\n",
       "      <td>Hyderabad</td>\n",
       "      <td>90.0</td>\n",
       "    </tr>\n",
       "  </tbody>\n",
       "</table>\n",
       "</div>"
      ],
      "text/plain": [
       "     Name  Roll       City  Marks\n",
       "1  Vamshi   101  Hyderabad   90.0"
      ]
     },
     "execution_count": 13,
     "metadata": {},
     "output_type": "execute_result"
    }
   ],
   "source": [
    "df.loc[df[\"Roll\"]==101]"
   ]
  },
  {
   "cell_type": "code",
   "execution_count": 22,
   "metadata": {},
   "outputs": [
    {
     "name": "stdout",
     "output_type": "stream",
     "text": [
      "row,col\n",
      "[1] [1]\n"
     ]
    }
   ],
   "source": [
    "#extracting row,col number of roll num 101\n",
    "r,c = np.where(df.values==101)\n",
    "print(\"row,col\")\n",
    "print(r,c)"
   ]
  },
  {
   "cell_type": "code",
   "execution_count": 101,
   "metadata": {},
   "outputs": [
    {
     "name": "stdout",
     "output_type": "stream",
     "text": [
      "        Name Roll      Place Marks\n",
      "0     Naveen  100  Hyderabad    99\n",
      "1     Vamshi  101  Hyderabad    90\n",
      "2    Anudeep   86   Warangal    80\n",
      "3      Nihal  115  Hyderabad    70\n",
      "4     Harsha  320    Khammam  60.5\n",
      "5  Sankeerth  110  Hyderabad    60\n",
      "6      Varun   91  Vijaywada    50\n",
      "7    Vaibhaw  NaN  Hyderabad   NaN\n",
      "8      Surya  NaN        NaN    78\n"
     ]
    }
   ],
   "source": [
    "#renaming\n",
    "print(df.rename(columns={\"City\":\"Place\"}))"
   ]
  },
  {
   "cell_type": "code",
   "execution_count": 98,
   "metadata": {},
   "outputs": [],
   "source": [
    " #3.Count the number of missing values in each column?"
   ]
  },
  {
   "cell_type": "code",
   "execution_count": 99,
   "metadata": {},
   "outputs": [
    {
     "name": "stdout",
     "output_type": "stream",
     "text": [
      "      Name  Roll       City  Marks\n",
      "0  Vaibhaw   NaN  Hyderabad    NaN\n",
      "1    Surya   NaN        NaN   78.0\n"
     ]
    }
   ],
   "source": [
    "#creating another data frame which consists null values\n",
    "df2 = pd.DataFrame({\"Name\":[\"Vaibhaw\",\"Surya\"],\n",
    "                    \"Roll\":[np.nan,np.nan],\n",
    "                    \"City\":[\"Hyderabad\",np.nan],\n",
    "                    \"Marks\":[np.nan,78]\n",
    "                   })\n",
    "print(df2)"
   ]
  },
  {
   "cell_type": "code",
   "execution_count": null,
   "metadata": {},
   "outputs": [],
   "source": [
    "df.append(df2)"
   ]
  },
  {
   "cell_type": "code",
   "execution_count": 90,
   "metadata": {},
   "outputs": [],
   "source": [
    "df = df.append(df2,ignore_index=True)"
   ]
  },
  {
   "cell_type": "code",
   "execution_count": 91,
   "metadata": {},
   "outputs": [
    {
     "name": "stdout",
     "output_type": "stream",
     "text": [
      "        Name Roll       City Marks\n",
      "0     Naveen  100  Hyderabad    99\n",
      "1     Vamshi  101  Hyderabad    90\n",
      "2    Anudeep   86   Warangal    80\n",
      "3      Nihal  115  Hyderabad    70\n",
      "4     Harsha  320    Khammam  60.5\n",
      "5  Sankeerth  110  Hyderabad    60\n",
      "6      Varun   91  Vijaywada    50\n",
      "7    Vaibhaw  NaN  Hyderabad   NaN\n",
      "8      Surya  NaN        NaN    78\n"
     ]
    }
   ],
   "source": [
    "print(df)"
   ]
  },
  {
   "cell_type": "code",
   "execution_count": 95,
   "metadata": {},
   "outputs": [
    {
     "name": "stdout",
     "output_type": "stream",
     "text": [
      "Name     0\n",
      "Roll     2\n",
      "City     1\n",
      "Marks    1\n",
      "dtype: int64\n"
     ]
    }
   ],
   "source": [
    " #printing count of null\n",
    "print(df.isnull().sum())"
   ]
  },
  {
   "cell_type": "code",
   "execution_count": null,
   "metadata": {},
   "outputs": [],
   "source": [
    "#--------------------------------------"
   ]
  },
  {
   "cell_type": "code",
   "execution_count": null,
   "metadata": {},
   "outputs": [],
   "source": [
    "#4.Replace missing values of multiple numeric columns with the mean?"
   ]
  },
  {
   "cell_type": "code",
   "execution_count": 116,
   "metadata": {},
   "outputs": [
    {
     "name": "stdout",
     "output_type": "stream",
     "text": [
      "        Name Roll       City  Marks\n",
      "0     Naveen  100  Hyderabad   99.0\n",
      "1     Vamshi  101  Hyderabad   90.0\n",
      "2    Anudeep   86   Warangal   80.0\n",
      "3      Nihal  115  Hyderabad   70.0\n",
      "4     Harsha  320    Khammam   60.5\n",
      "5  Sankeerth  110  Hyderabad   60.0\n",
      "6      Varun   91  Vijaywada   50.0\n",
      "7    Vaibhaw  NaN  Hyderabad   74.0\n",
      "8      Surya  NaN        NaN   78.0\n"
     ]
    }
   ],
   "source": [
    " #replacing strings with highest repeated city\n",
    "df[\"City\"].fillna(df[\"City\"].mode()[0])\n",
    "#median for numeric values\n",
    "df[\"Roll\"].fillna(3)\n",
    "df[\"Roll\"].fillna(df[\"Roll\"].median())\n",
    "\n",
    "df[\"Marks\"].fillna(df[\"Marks\"].median(),inplace=True)\n",
    "\n",
    "print(df)\n",
    "#the values will be replaced only when inplace will be true (for example marks)"
   ]
  },
  {
   "cell_type": "code",
   "execution_count": 117,
   "metadata": {},
   "outputs": [],
   "source": [
    "#5. Apply function on existing columns with global variables as additional arguments?"
   ]
  },
  {
   "cell_type": "code",
   "execution_count": 118,
   "metadata": {},
   "outputs": [
    {
     "name": "stdout",
     "output_type": "stream",
     "text": [
      "   0  1\n",
      "0  1  2\n",
      "1  3  4\n",
      "After applying the dataframe is:\n",
      "   0  1\n",
      "0  2  3\n",
      "1  4  5\n"
     ]
    }
   ],
   "source": [
    "f = pd.DataFrame([[1,2],[3,4]]) \n",
    "print(f)\n",
    "def add(num):\n",
    "    return num+1 \n",
    "new = f.apply(add)\n",
    "\n",
    "print(\"After applying the dataframe is:\")\n",
    "print(new)"
   ]
  },
  {
   "cell_type": "code",
   "execution_count": 119,
   "metadata": {},
   "outputs": [],
   "source": [
    "#6. Change the order of columns of a data frame?"
   ]
  },
  {
   "cell_type": "code",
   "execution_count": 124,
   "metadata": {},
   "outputs": [
    {
     "name": "stdout",
     "output_type": "stream",
     "text": [
      "Index(['Roll', 'Name', 'Marks', 'City'], dtype='object')\n"
     ]
    }
   ],
   "source": [
    "df = df[[\"Roll\",\"Name\",\"Marks\",\"City\"]]\n",
    "print(df.columns)"
   ]
  },
  {
   "cell_type": "code",
   "execution_count": 125,
   "metadata": {},
   "outputs": [],
   "source": [
    "#7. .Set the number of rows and columns displayed in the output"
   ]
  },
  {
   "cell_type": "code",
   "execution_count": 127,
   "metadata": {},
   "outputs": [
    {
     "name": "stdout",
     "output_type": "stream",
     "text": [
      "  Roll     Name  Marks       City\n",
      "0  100   Naveen   99.0  Hyderabad\n",
      "1  101   Vamshi   90.0  Hyderabad\n",
      "2   86  Anudeep   80.0   Warangal\n"
     ]
    }
   ],
   "source": [
    "#rows\n",
    "print(df.head(3))"
   ]
  },
  {
   "cell_type": "code",
   "execution_count": 133,
   "metadata": {},
   "outputs": [
    {
     "name": "stdout",
     "output_type": "stream",
     "text": [
      "        Name  Marks\n",
      "0     Naveen   99.0\n",
      "1     Vamshi   90.0\n",
      "2    Anudeep   80.0\n",
      "3      Nihal   70.0\n",
      "4     Harsha   60.5\n",
      "5  Sankeerth   60.0\n",
      "6      Varun   50.0\n",
      "7    Vaibhaw   74.0\n",
      "8      Surya   78.0\n"
     ]
    }
   ],
   "source": [
    "#cols\n",
    "print(df[df.columns[1:3]])"
   ]
  },
  {
   "cell_type": "code",
   "execution_count": 134,
   "metadata": {},
   "outputs": [],
   "source": [
    "#8. Create a primary key index by combining relevant columns?"
   ]
  },
  {
   "cell_type": "code",
   "execution_count": 144,
   "metadata": {},
   "outputs": [
    {
     "name": "stdout",
     "output_type": "stream",
     "text": [
      "                                                   Roll       Name  Marks  \\\n",
      "newidx                                                                      \n",
      "newidx\\nnewidx\\nnewidx\\nnewidx\\n0    100\\n1    ...  100     Naveen   99.0   \n",
      "newidx\\nnewidx\\nnewidx\\nnewidx\\n0    100\\n1    ...  101     Vamshi   90.0   \n",
      "newidx\\nnewidx\\nnewidx\\nnewidx\\n0    100\\n1    ...   86    Anudeep   80.0   \n",
      "newidx\\nnewidx\\nnewidx\\nnewidx\\n0    100\\n1    ...  115      Nihal   70.0   \n",
      "newidx\\nnewidx\\nnewidx\\nnewidx\\n0    100\\n1    ...  320     Harsha   60.5   \n",
      "newidx\\nnewidx\\nnewidx\\nnewidx\\n0    100\\n1    ...  110  Sankeerth   60.0   \n",
      "newidx\\nnewidx\\nnewidx\\nnewidx\\n0    100\\n1    ...   91      Varun   50.0   \n",
      "newidx\\nnewidx\\nnewidx\\nnewidx\\n0    100\\n1    ...  NaN    Vaibhaw   74.0   \n",
      "newidx\\nnewidx\\nnewidx\\nnewidx\\n0    100\\n1    ...  NaN      Surya   78.0   \n",
      "\n",
      "                                                         City  \n",
      "newidx                                                         \n",
      "newidx\\nnewidx\\nnewidx\\nnewidx\\n0    100\\n1    ...  Hyderabad  \n",
      "newidx\\nnewidx\\nnewidx\\nnewidx\\n0    100\\n1    ...  Hyderabad  \n",
      "newidx\\nnewidx\\nnewidx\\nnewidx\\n0    100\\n1    ...   Warangal  \n",
      "newidx\\nnewidx\\nnewidx\\nnewidx\\n0    100\\n1    ...  Hyderabad  \n",
      "newidx\\nnewidx\\nnewidx\\nnewidx\\n0    100\\n1    ...    Khammam  \n",
      "newidx\\nnewidx\\nnewidx\\nnewidx\\n0    100\\n1    ...  Hyderabad  \n",
      "newidx\\nnewidx\\nnewidx\\nnewidx\\n0    100\\n1    ...  Vijaywada  \n",
      "newidx\\nnewidx\\nnewidx\\nnewidx\\n0    100\\n1    ...  Hyderabad  \n",
      "newidx\\nnewidx\\nnewidx\\nnewidx\\n0    100\\n1    ...        NaN  \n"
     ]
    }
   ],
   "source": [
    "df[\"newidx\"] = str(df[\"Roll\"])+df[\"Name\"]\n",
    "df.set_index(\"newidx\",inplace=True)\n",
    "print(df)"
   ]
  },
  {
   "cell_type": "code",
   "execution_count": 145,
   "metadata": {},
   "outputs": [],
   "source": [
    "#9. Get the row number of the nth largest value in a column?"
   ]
  },
  {
   "cell_type": "code",
   "execution_count": 149,
   "metadata": {},
   "outputs": [
    {
     "data": {
      "text/plain": [
       "80.0"
      ]
     },
     "execution_count": 149,
     "metadata": {},
     "output_type": "execute_result"
    }
   ],
   "source": [
    "df.Marks.nlargest(3).iloc[-1]\n"
   ]
  },
  {
   "cell_type": "code",
   "execution_count": 158,
   "metadata": {},
   "outputs": [],
   "source": [
    " #10.Findthepositionofthenthlargestvaluegreaterthanagivenvalue"
   ]
  },
  {
   "cell_type": "code",
   "execution_count": 160,
   "metadata": {},
   "outputs": [
    {
     "data": {
      "text/plain": [
       "1"
      ]
     },
     "execution_count": 160,
     "metadata": {},
     "output_type": "execute_result"
    }
   ],
   "source": [
    "df_to_array = df[\"Marks\"].to_numpy() \n",
    "ser = pd.Series(df_to_array)\n",
    "ser[ser > ser.mean()].index[1]"
   ]
  },
  {
   "cell_type": "code",
   "execution_count": 161,
   "metadata": {},
   "outputs": [],
   "source": [
    "#11. Get the last n rows of a dataframe with row sum > 100?"
   ]
  },
  {
   "cell_type": "code",
   "execution_count": 162,
   "metadata": {},
   "outputs": [
    {
     "data": {
      "text/html": [
       "<div>\n",
       "<style scoped>\n",
       "    .dataframe tbody tr th:only-of-type {\n",
       "        vertical-align: middle;\n",
       "    }\n",
       "\n",
       "    .dataframe tbody tr th {\n",
       "        vertical-align: top;\n",
       "    }\n",
       "\n",
       "    .dataframe thead th {\n",
       "        text-align: right;\n",
       "    }\n",
       "</style>\n",
       "<table border=\"1\" class=\"dataframe\">\n",
       "  <thead>\n",
       "    <tr style=\"text-align: right;\">\n",
       "      <th></th>\n",
       "      <th>0</th>\n",
       "      <th>1</th>\n",
       "      <th>2</th>\n",
       "      <th>3</th>\n",
       "    </tr>\n",
       "  </thead>\n",
       "  <tbody>\n",
       "    <tr>\n",
       "      <th>10</th>\n",
       "      <td>25</td>\n",
       "      <td>24</td>\n",
       "      <td>39</td>\n",
       "      <td>35</td>\n",
       "    </tr>\n",
       "    <tr>\n",
       "      <th>14</th>\n",
       "      <td>37</td>\n",
       "      <td>31</td>\n",
       "      <td>21</td>\n",
       "      <td>39</td>\n",
       "    </tr>\n",
       "  </tbody>\n",
       "</table>\n",
       "</div>"
      ],
      "text/plain": [
       "     0   1   2   3\n",
       "10  25  24  39  35\n",
       "14  37  31  21  39"
      ]
     },
     "execution_count": 162,
     "metadata": {},
     "output_type": "execute_result"
    }
   ],
   "source": [
    "ndf = pd.DataFrame(np.random.randint(10, 40, 60).reshape(-1, 4)) \n",
    "df1 = ndf.copy(deep = True)\n",
    "rowsums = df1.apply(np.sum, axis=1)# last two rows with row sum greater than 100\n",
    "last_two_rows = df1.iloc[np.where(rowsums > 100)[0][-2:], :] \n",
    "last_two_rows"
   ]
  },
  {
   "cell_type": "code",
   "execution_count": 163,
   "metadata": {},
   "outputs": [],
   "source": [
    "#12. Create a column containing the minimum by maximum of each row?"
   ]
  },
  {
   "cell_type": "code",
   "execution_count": 164,
   "metadata": {},
   "outputs": [
    {
     "data": {
      "text/html": [
       "<div>\n",
       "<style scoped>\n",
       "    .dataframe tbody tr th:only-of-type {\n",
       "        vertical-align: middle;\n",
       "    }\n",
       "\n",
       "    .dataframe tbody tr th {\n",
       "        vertical-align: top;\n",
       "    }\n",
       "\n",
       "    .dataframe thead th {\n",
       "        text-align: right;\n",
       "    }\n",
       "</style>\n",
       "<table border=\"1\" class=\"dataframe\">\n",
       "  <thead>\n",
       "    <tr style=\"text-align: right;\">\n",
       "      <th></th>\n",
       "      <th>0</th>\n",
       "      <th>1</th>\n",
       "      <th>2</th>\n",
       "      <th>3</th>\n",
       "      <th>min_by_max</th>\n",
       "    </tr>\n",
       "  </thead>\n",
       "  <tbody>\n",
       "    <tr>\n",
       "      <th>0</th>\n",
       "      <td>31</td>\n",
       "      <td>17</td>\n",
       "      <td>13</td>\n",
       "      <td>14</td>\n",
       "      <td>0.419355</td>\n",
       "    </tr>\n",
       "    <tr>\n",
       "      <th>1</th>\n",
       "      <td>33</td>\n",
       "      <td>32</td>\n",
       "      <td>38</td>\n",
       "      <td>17</td>\n",
       "      <td>0.447368</td>\n",
       "    </tr>\n",
       "    <tr>\n",
       "      <th>2</th>\n",
       "      <td>30</td>\n",
       "      <td>24</td>\n",
       "      <td>13</td>\n",
       "      <td>30</td>\n",
       "      <td>0.433333</td>\n",
       "    </tr>\n",
       "    <tr>\n",
       "      <th>3</th>\n",
       "      <td>38</td>\n",
       "      <td>25</td>\n",
       "      <td>23</td>\n",
       "      <td>37</td>\n",
       "      <td>0.605263</td>\n",
       "    </tr>\n",
       "    <tr>\n",
       "      <th>4</th>\n",
       "      <td>33</td>\n",
       "      <td>20</td>\n",
       "      <td>11</td>\n",
       "      <td>39</td>\n",
       "      <td>0.282051</td>\n",
       "    </tr>\n",
       "    <tr>\n",
       "      <th>5</th>\n",
       "      <td>19</td>\n",
       "      <td>11</td>\n",
       "      <td>35</td>\n",
       "      <td>28</td>\n",
       "      <td>0.314286</td>\n",
       "    </tr>\n",
       "    <tr>\n",
       "      <th>6</th>\n",
       "      <td>17</td>\n",
       "      <td>31</td>\n",
       "      <td>37</td>\n",
       "      <td>18</td>\n",
       "      <td>0.459459</td>\n",
       "    </tr>\n",
       "    <tr>\n",
       "      <th>7</th>\n",
       "      <td>28</td>\n",
       "      <td>31</td>\n",
       "      <td>22</td>\n",
       "      <td>30</td>\n",
       "      <td>0.709677</td>\n",
       "    </tr>\n",
       "    <tr>\n",
       "      <th>8</th>\n",
       "      <td>27</td>\n",
       "      <td>29</td>\n",
       "      <td>20</td>\n",
       "      <td>13</td>\n",
       "      <td>0.448276</td>\n",
       "    </tr>\n",
       "    <tr>\n",
       "      <th>9</th>\n",
       "      <td>34</td>\n",
       "      <td>22</td>\n",
       "      <td>32</td>\n",
       "      <td>23</td>\n",
       "      <td>0.647059</td>\n",
       "    </tr>\n",
       "    <tr>\n",
       "      <th>10</th>\n",
       "      <td>25</td>\n",
       "      <td>24</td>\n",
       "      <td>39</td>\n",
       "      <td>35</td>\n",
       "      <td>0.615385</td>\n",
       "    </tr>\n",
       "    <tr>\n",
       "      <th>11</th>\n",
       "      <td>20</td>\n",
       "      <td>11</td>\n",
       "      <td>24</td>\n",
       "      <td>29</td>\n",
       "      <td>0.379310</td>\n",
       "    </tr>\n",
       "    <tr>\n",
       "      <th>12</th>\n",
       "      <td>16</td>\n",
       "      <td>18</td>\n",
       "      <td>32</td>\n",
       "      <td>23</td>\n",
       "      <td>0.500000</td>\n",
       "    </tr>\n",
       "    <tr>\n",
       "      <th>13</th>\n",
       "      <td>11</td>\n",
       "      <td>35</td>\n",
       "      <td>27</td>\n",
       "      <td>11</td>\n",
       "      <td>0.314286</td>\n",
       "    </tr>\n",
       "    <tr>\n",
       "      <th>14</th>\n",
       "      <td>37</td>\n",
       "      <td>31</td>\n",
       "      <td>21</td>\n",
       "      <td>39</td>\n",
       "      <td>0.538462</td>\n",
       "    </tr>\n",
       "  </tbody>\n",
       "</table>\n",
       "</div>"
      ],
      "text/plain": [
       "     0   1   2   3  min_by_max\n",
       "0   31  17  13  14    0.419355\n",
       "1   33  32  38  17    0.447368\n",
       "2   30  24  13  30    0.433333\n",
       "3   38  25  23  37    0.605263\n",
       "4   33  20  11  39    0.282051\n",
       "5   19  11  35  28    0.314286\n",
       "6   17  31  37  18    0.459459\n",
       "7   28  31  22  30    0.709677\n",
       "8   27  29  20  13    0.448276\n",
       "9   34  22  32  23    0.647059\n",
       "10  25  24  39  35    0.615385\n",
       "11  20  11  24  29    0.379310\n",
       "12  16  18  32  23    0.500000\n",
       "13  11  35  27  11    0.314286\n",
       "14  37  31  21  39    0.538462"
      ]
     },
     "execution_count": 164,
     "metadata": {},
     "output_type": "execute_result"
    }
   ],
   "source": [
    "ndf[\"min_by_max\"] = (ndf.apply(min, axis = 1)/ndf.apply(max, axis = 1))\n",
    "ndf"
   ]
  },
  {
   "cell_type": "code",
   "execution_count": 166,
   "metadata": {},
   "outputs": [],
   "source": [
    "#13. Create a column that contains the penultimate value in each row?"
   ]
  },
  {
   "cell_type": "code",
   "execution_count": 167,
   "metadata": {},
   "outputs": [
    {
     "data": {
      "text/html": [
       "<div>\n",
       "<style scoped>\n",
       "    .dataframe tbody tr th:only-of-type {\n",
       "        vertical-align: middle;\n",
       "    }\n",
       "\n",
       "    .dataframe tbody tr th {\n",
       "        vertical-align: top;\n",
       "    }\n",
       "\n",
       "    .dataframe thead th {\n",
       "        text-align: right;\n",
       "    }\n",
       "</style>\n",
       "<table border=\"1\" class=\"dataframe\">\n",
       "  <thead>\n",
       "    <tr style=\"text-align: right;\">\n",
       "      <th></th>\n",
       "      <th>0</th>\n",
       "      <th>1</th>\n",
       "      <th>2</th>\n",
       "      <th>3</th>\n",
       "      <th>min_by_max</th>\n",
       "      <th>penultimate</th>\n",
       "    </tr>\n",
       "  </thead>\n",
       "  <tbody>\n",
       "    <tr>\n",
       "      <th>0</th>\n",
       "      <td>31</td>\n",
       "      <td>17</td>\n",
       "      <td>13</td>\n",
       "      <td>14</td>\n",
       "      <td>0.419355</td>\n",
       "      <td>17.0</td>\n",
       "    </tr>\n",
       "    <tr>\n",
       "      <th>1</th>\n",
       "      <td>33</td>\n",
       "      <td>32</td>\n",
       "      <td>38</td>\n",
       "      <td>17</td>\n",
       "      <td>0.447368</td>\n",
       "      <td>33.0</td>\n",
       "    </tr>\n",
       "    <tr>\n",
       "      <th>2</th>\n",
       "      <td>30</td>\n",
       "      <td>24</td>\n",
       "      <td>13</td>\n",
       "      <td>30</td>\n",
       "      <td>0.433333</td>\n",
       "      <td>24.0</td>\n",
       "    </tr>\n",
       "    <tr>\n",
       "      <th>3</th>\n",
       "      <td>38</td>\n",
       "      <td>25</td>\n",
       "      <td>23</td>\n",
       "      <td>37</td>\n",
       "      <td>0.605263</td>\n",
       "      <td>37.0</td>\n",
       "    </tr>\n",
       "    <tr>\n",
       "      <th>4</th>\n",
       "      <td>33</td>\n",
       "      <td>20</td>\n",
       "      <td>11</td>\n",
       "      <td>39</td>\n",
       "      <td>0.282051</td>\n",
       "      <td>33.0</td>\n",
       "    </tr>\n",
       "    <tr>\n",
       "      <th>5</th>\n",
       "      <td>19</td>\n",
       "      <td>11</td>\n",
       "      <td>35</td>\n",
       "      <td>28</td>\n",
       "      <td>0.314286</td>\n",
       "      <td>28.0</td>\n",
       "    </tr>\n",
       "    <tr>\n",
       "      <th>6</th>\n",
       "      <td>17</td>\n",
       "      <td>31</td>\n",
       "      <td>37</td>\n",
       "      <td>18</td>\n",
       "      <td>0.459459</td>\n",
       "      <td>31.0</td>\n",
       "    </tr>\n",
       "    <tr>\n",
       "      <th>7</th>\n",
       "      <td>28</td>\n",
       "      <td>31</td>\n",
       "      <td>22</td>\n",
       "      <td>30</td>\n",
       "      <td>0.709677</td>\n",
       "      <td>30.0</td>\n",
       "    </tr>\n",
       "    <tr>\n",
       "      <th>8</th>\n",
       "      <td>27</td>\n",
       "      <td>29</td>\n",
       "      <td>20</td>\n",
       "      <td>13</td>\n",
       "      <td>0.448276</td>\n",
       "      <td>27.0</td>\n",
       "    </tr>\n",
       "    <tr>\n",
       "      <th>9</th>\n",
       "      <td>34</td>\n",
       "      <td>22</td>\n",
       "      <td>32</td>\n",
       "      <td>23</td>\n",
       "      <td>0.647059</td>\n",
       "      <td>32.0</td>\n",
       "    </tr>\n",
       "    <tr>\n",
       "      <th>10</th>\n",
       "      <td>25</td>\n",
       "      <td>24</td>\n",
       "      <td>39</td>\n",
       "      <td>35</td>\n",
       "      <td>0.615385</td>\n",
       "      <td>35.0</td>\n",
       "    </tr>\n",
       "    <tr>\n",
       "      <th>11</th>\n",
       "      <td>20</td>\n",
       "      <td>11</td>\n",
       "      <td>24</td>\n",
       "      <td>29</td>\n",
       "      <td>0.379310</td>\n",
       "      <td>24.0</td>\n",
       "    </tr>\n",
       "    <tr>\n",
       "      <th>12</th>\n",
       "      <td>16</td>\n",
       "      <td>18</td>\n",
       "      <td>32</td>\n",
       "      <td>23</td>\n",
       "      <td>0.500000</td>\n",
       "      <td>23.0</td>\n",
       "    </tr>\n",
       "    <tr>\n",
       "      <th>13</th>\n",
       "      <td>11</td>\n",
       "      <td>35</td>\n",
       "      <td>27</td>\n",
       "      <td>11</td>\n",
       "      <td>0.314286</td>\n",
       "      <td>27.0</td>\n",
       "    </tr>\n",
       "    <tr>\n",
       "      <th>14</th>\n",
       "      <td>37</td>\n",
       "      <td>31</td>\n",
       "      <td>21</td>\n",
       "      <td>39</td>\n",
       "      <td>0.538462</td>\n",
       "      <td>37.0</td>\n",
       "    </tr>\n",
       "  </tbody>\n",
       "</table>\n",
       "</div>"
      ],
      "text/plain": [
       "     0   1   2   3  min_by_max  penultimate\n",
       "0   31  17  13  14    0.419355         17.0\n",
       "1   33  32  38  17    0.447368         33.0\n",
       "2   30  24  13  30    0.433333         24.0\n",
       "3   38  25  23  37    0.605263         37.0\n",
       "4   33  20  11  39    0.282051         33.0\n",
       "5   19  11  35  28    0.314286         28.0\n",
       "6   17  31  37  18    0.459459         31.0\n",
       "7   28  31  22  30    0.709677         30.0\n",
       "8   27  29  20  13    0.448276         27.0\n",
       "9   34  22  32  23    0.647059         32.0\n",
       "10  25  24  39  35    0.615385         35.0\n",
       "11  20  11  24  29    0.379310         24.0\n",
       "12  16  18  32  23    0.500000         23.0\n",
       "13  11  35  27  11    0.314286         27.0\n",
       "14  37  31  21  39    0.538462         37.0"
      ]
     },
     "execution_count": 167,
     "metadata": {},
     "output_type": "execute_result"
    }
   ],
   "source": [
    "out = ndf.apply(lambda x: x.sort_values().unique()[-2], axis=1) \n",
    "ndf['penultimate'] = out\n",
    "ndf"
   ]
  },
  {
   "cell_type": "code",
   "execution_count": 168,
   "metadata": {},
   "outputs": [],
   "source": [
    "#14. Normalize all columns in adataframe?"
   ]
  },
  {
   "cell_type": "code",
   "execution_count": 170,
   "metadata": {},
   "outputs": [
    {
     "name": "stdout",
     "output_type": "stream",
     "text": [
      "           0         1         2         3  min_by_max  penultimate\n",
      "0   0.550115 -0.967079 -1.407585 -1.267730   -0.442651    -2.231375\n",
      "1   0.800167  1.085683  1.341605 -0.943594   -0.216712     0.695019\n",
      "2   0.425089 -0.009123 -1.407585  0.460993   -0.329910    -0.951078\n",
      "3   1.425297  0.127727 -0.307909  1.217309    1.056761     1.426617\n",
      "4   0.800167 -0.556527 -1.627520  1.433399   -1.550050     0.695019\n",
      "5  -0.950198 -1.788184  1.011702  0.244902   -1.290069    -0.219480\n",
      "6  -1.200250  0.948832  1.231637 -0.835549   -0.119194     0.329219\n",
      "7   0.175036  0.948832 -0.417877  0.460993    1.898897     0.146320\n",
      "8   0.050010  0.675131 -0.637812 -1.375775   -0.209394    -0.402379\n",
      "9   0.925193 -0.282825  0.681799 -0.295323    1.393857     0.512119\n",
      "10 -0.200042 -0.009123  1.451572  1.001219    1.138394     1.060818\n",
      "11 -0.825172 -1.788184 -0.197942  0.352948   -0.765623    -0.951078\n",
      "12 -1.325276 -0.830228  0.681799 -0.295323    0.207779    -1.133978\n",
      "13 -1.950406  1.496236  0.131961 -1.591865   -1.290069    -0.402379\n",
      "14  1.300271  0.948832 -0.527844  1.433399    0.517984     1.426617\n",
      "       0     1     2     3  min_by_max  penultimate\n",
      "0   0.26  0.75  0.93  0.89        0.68         1.00\n",
      "1   0.19  0.12  0.04  0.79        0.61         0.20\n",
      "2   0.30  0.46  0.93  0.32        0.65         0.65\n",
      "3   0.00  0.42  0.57  0.07        0.24         0.00\n",
      "4   0.19  0.62  1.00  0.00        1.00         0.20\n",
      "5   0.70  1.00  0.14  0.39        0.92         0.45\n",
      "6   0.78  0.17  0.07  0.75        0.59         0.30\n",
      "7   0.37  0.17  0.61  0.32        0.00         0.35\n",
      "8   0.41  0.25  0.68  0.93        0.61         0.50\n",
      "9   0.15  0.54  0.25  0.57        0.15         0.25\n",
      "10  0.48  0.46  0.00  0.14        0.22         0.10\n",
      "11  0.67  1.00  0.54  0.36        0.77         0.65\n",
      "12  0.81  0.71  0.25  0.57        0.49         0.70\n",
      "13  1.00  0.00  0.43  1.00        0.92         0.50\n",
      "14  0.04  0.17  0.64  0.00        0.40         0.00\n"
     ]
    }
   ],
   "source": [
    "#First normalization: mean and std\n",
    "df1 = ndf.apply(lambda x: ((x-np.mean(x))/np.std(x)), axis = 0) \n",
    "print(df1)\n",
    "# min max\n",
    "df2 = ndf.apply(lambda x: ((x.max() -x)/(x.max() -x.min())).round(2)) \n",
    "print(df2)"
   ]
  },
  {
   "cell_type": "code",
   "execution_count": 171,
   "metadata": {},
   "outputs": [],
   "source": [
    "#________________________________________________________________________________________________________________"
   ]
  },
  {
   "cell_type": "code",
   "execution_count": 190,
   "metadata": {},
   "outputs": [],
   "source": [
    "### 1. Create Dataset or using Standard Data Sets perform following\n",
    "#Preprocessing\n",
    "#Identify Null Values print them\n",
    "#Handling missing values with Imputer Classand Without Imputer what are the different methods or Strategies \n",
    "#Handling Categorical\n",
    "#Perform Encoding with Methods\n",
    " "
   ]
  },
  {
   "cell_type": "code",
   "execution_count": 181,
   "metadata": {},
   "outputs": [
    {
     "data": {
      "text/html": [
       "<div>\n",
       "<style scoped>\n",
       "    .dataframe tbody tr th:only-of-type {\n",
       "        vertical-align: middle;\n",
       "    }\n",
       "\n",
       "    .dataframe tbody tr th {\n",
       "        vertical-align: top;\n",
       "    }\n",
       "\n",
       "    .dataframe thead th {\n",
       "        text-align: right;\n",
       "    }\n",
       "</style>\n",
       "<table border=\"1\" class=\"dataframe\">\n",
       "  <thead>\n",
       "    <tr style=\"text-align: right;\">\n",
       "      <th></th>\n",
       "      <th>rank</th>\n",
       "      <th>company</th>\n",
       "      <th>revenue ($ millions)</th>\n",
       "      <th>profit ($ millions)</th>\n",
       "    </tr>\n",
       "  </thead>\n",
       "  <tbody>\n",
       "    <tr>\n",
       "      <th>0</th>\n",
       "      <td>1</td>\n",
       "      <td>Walmart</td>\n",
       "      <td>485873</td>\n",
       "      <td>13643.0</td>\n",
       "    </tr>\n",
       "    <tr>\n",
       "      <th>1</th>\n",
       "      <td>2</td>\n",
       "      <td>Berkshire Hathaway</td>\n",
       "      <td>223604</td>\n",
       "      <td>24074.0</td>\n",
       "    </tr>\n",
       "    <tr>\n",
       "      <th>2</th>\n",
       "      <td>3</td>\n",
       "      <td>Apple</td>\n",
       "      <td>215639</td>\n",
       "      <td>45687.0</td>\n",
       "    </tr>\n",
       "    <tr>\n",
       "      <th>3</th>\n",
       "      <td>4</td>\n",
       "      <td>Exxon Mobil</td>\n",
       "      <td>205004</td>\n",
       "      <td>7840.0</td>\n",
       "    </tr>\n",
       "    <tr>\n",
       "      <th>4</th>\n",
       "      <td>5</td>\n",
       "      <td>McKesson</td>\n",
       "      <td>192487</td>\n",
       "      <td>2258.0</td>\n",
       "    </tr>\n",
       "  </tbody>\n",
       "</table>\n",
       "</div>"
      ],
      "text/plain": [
       "   rank             company  revenue ($ millions)  profit ($ millions)\n",
       "0     1             Walmart                485873              13643.0\n",
       "1     2  Berkshire Hathaway                223604              24074.0\n",
       "2     3               Apple                215639              45687.0\n",
       "3     4         Exxon Mobil                205004               7840.0\n",
       "4     5            McKesson                192487               2258.0"
      ]
     },
     "execution_count": 181,
     "metadata": {},
     "output_type": "execute_result"
    }
   ],
   "source": [
    "import numpy as np \n",
    "import pandas as pd\n",
    "\n",
    "dataset = pd.read_csv(\"csvfiles/fortune500.csv\",encoding='latin-1')\n",
    "dataset.head()"
   ]
  },
  {
   "cell_type": "code",
   "execution_count": 182,
   "metadata": {},
   "outputs": [
    {
     "data": {
      "text/plain": [
       "True"
      ]
     },
     "execution_count": 182,
     "metadata": {},
     "output_type": "execute_result"
    }
   ],
   "source": [
    "dataset.isnull().values.any()"
   ]
  },
  {
   "cell_type": "code",
   "execution_count": 183,
   "metadata": {},
   "outputs": [
    {
     "name": "stdout",
     "output_type": "stream",
     "text": [
      "Index(['rank', 'company', 'revenue ($ millions)', 'profit ($ millions)'], dtype='object')\n"
     ]
    }
   ],
   "source": [
    "print(dataset.columns)"
   ]
  },
  {
   "cell_type": "code",
   "execution_count": 184,
   "metadata": {},
   "outputs": [
    {
     "data": {
      "text/plain": [
       "rank                    0\n",
       "company                 0\n",
       "revenue ($ millions)    0\n",
       "profit ($ millions)     1\n",
       "dtype: int64"
      ]
     },
     "execution_count": 184,
     "metadata": {},
     "output_type": "execute_result"
    }
   ],
   "source": [
    "dataset.isnull().sum()"
   ]
  },
  {
   "cell_type": "code",
   "execution_count": 191,
   "metadata": {},
   "outputs": [
    {
     "name": "stdout",
     "output_type": "stream",
     "text": [
      "     rank             company  revenue ($ millions)  profit ($ millions)\n",
      "0       1             Walmart                485873         13643.000000\n",
      "1       2  Berkshire Hathaway                223604         24074.000000\n",
      "2       3               Apple                215639         45687.000000\n",
      "3       4         Exxon Mobil                205004          7840.000000\n",
      "4       5            McKesson                192487          2258.000000\n",
      "..    ...                 ...                   ...                  ...\n",
      "495   496       Michaels Cos.                  5197           378.200000\n",
      "496   497       Toll Brothers                  5170           382.100000\n",
      "497   498               Yahoo                  5169          -214.300000\n",
      "498   499       Vistra Energy                  5164          1783.475351\n",
      "499   500      ABM Industries                  5145            57.200000\n",
      "\n",
      "[500 rows x 4 columns]\n"
     ]
    }
   ],
   "source": [
    "#fillling missing values\n",
    "dataset['profit ($ millions)'].fillna(dataset['profit ($ millions)'].mean(),inplace=True)\n",
    "print(dataset)"
   ]
  },
  {
   "cell_type": "code",
   "execution_count": 192,
   "metadata": {},
   "outputs": [],
   "source": [
    "#imputer"
   ]
  },
  {
   "cell_type": "code",
   "execution_count": null,
   "metadata": {},
   "outputs": [],
   "source": []
  },
  {
   "cell_type": "code",
   "execution_count": 193,
   "metadata": {},
   "outputs": [],
   "source": [
    "#handling catergorical\n"
   ]
  },
  {
   "cell_type": "code",
   "execution_count": 208,
   "metadata": {},
   "outputs": [
    {
     "name": "stdout",
     "output_type": "stream",
     "text": [
      "[[1 'Walmart' 485873]\n",
      " [2 'Berkshire Hathaway' 223604]\n",
      " [3 'Apple' 215639]\n",
      " ...\n",
      " [498 'Yahoo' 5169]\n",
      " [499 'Vistra Energy' 5164]\n",
      " [500 'ABM Industries' 5145]]\n"
     ]
    }
   ],
   "source": [
    "\n",
    "#creating dependant matrix\n",
    "dd = dataset.iloc[:, :-1].values\n",
    "print(dd)"
   ]
  },
  {
   "cell_type": "code",
   "execution_count": 211,
   "metadata": {},
   "outputs": [
    {
     "data": {
      "text/plain": [
       "array([[0, 474, 485873],\n",
       "       [1, 72, 223604],\n",
       "       [2, 46, 215639],\n",
       "       ...,\n",
       "       [497, 493, 5169],\n",
       "       [498, 467, 5164],\n",
       "       [499, 2, 5145]], dtype=object)"
      ]
     },
     "execution_count": 211,
     "metadata": {},
     "output_type": "execute_result"
    }
   ],
   "source": [
    "#encoding\n",
    "\n",
    "#sklearn\n",
    "\n",
    "from sklearn.preprocessing import LabelEncoder \n",
    "labelencoder_X = LabelEncoder()\n",
    "X = dataset.iloc[:, :-1].values\n",
    "y = dataset.iloc[:, -1].values\n",
    "X[:,0] = labelencoder_X.fit_transform(X[:,0]) \n",
    "X[:,1] = labelencoder_X.fit_transform(X[:,1])\n",
    "X"
   ]
  },
  {
   "cell_type": "code",
   "execution_count": 212,
   "metadata": {},
   "outputs": [
    {
     "name": "stdout",
     "output_type": "stream",
     "text": [
      "[474 72 46 178 300 457 94 202 9 192 38 29 200 464 100 131 473 264 112 180\n",
      " 249 177 229 78 477 67 26 305 44 116 122 236 414 366 253 371 462 427 194\n",
      " 286 144 302 15 361 49 448 242 373 20 456 291 151 233 364 7 284 423 182\n",
      " 226 115 215 156 213 119 324 105 31 320 301 113 145 74 230 102 279 310 296\n",
      " 208 167 424 342 445 452 24 375 33 425 329 174 199 391 206 90 0 437 109\n",
      " 333 179 442 98 444 450 488 365 142 263 428 62 308 289 10 299 158 332 126\n",
      " 384 42 51 377 372 159 169 39 449 446 16 401 152 57 123 413 165 244 429 11\n",
      " 153 484 407 166 412 367 360 451 139 406 290 82 27 190 262 272 250 222 435\n",
      " 259 307 349 419 133 107 4 492 293 354 201 350 32 238 334 328 362 348 217\n",
      " 99 195 485 68 198 340 204 137 121 351 209 421 135 466 330 237 478 490 48\n",
      " 87 5 476 188 125 422 88 434 475 239 337 309 120 433 281 325 270 294 163\n",
      " 85 285 86 260 256 480 212 395 265 247 181 390 465 70 304 370 50 317 461\n",
      " 146 134 71 127 164 403 316 154 37 3 227 187 223 439 64 387 129 76 271 411\n",
      " 357 417 172 104 77 491 93 460 251 274 211 275 168 359 47 468 297 369 277\n",
      " 58 415 136 266 228 368 459 149 336 455 402 69 470 59 331 65 25 405 344\n",
      " 235 268 313 14 183 17 231 225 288 130 389 21 184 355 418 267 80 66 92 374\n",
      " 162 497 306 341 196 323 34 436 175 282 61 388 197 430 347 363 453 499 81\n",
      " 326 205 283 463 327 132 207 353 276 321 458 97 147 483 314 111 41 245 248\n",
      " 416 191 481 408 141 496 376 469 378 161 108 173 43 160 55 106 221 214 352\n",
      " 379 486 471 224 6 382 295 472 280 319 261 311 23 124 234 273 170 432 54\n",
      " 140 220 335 381 185 380 255 155 409 396 1 440 400 56 495 96 346 426 252\n",
      " 254 193 12 246 128 315 53 35 150 73 398 95 157 148 216 91 210 83 494 101\n",
      " 40 343 498 443 22 176 60 30 218 312 410 219 386 243 19 338 269 8 393 13\n",
      " 63 431 318 138 385 36 356 117 454 118 203 287 240 447 345 397 292 489 52\n",
      " 84 186 420 358 339 322 383 441 189 232 241 298 28 114 404 482 258 143 79\n",
      " 110 479 103 487 399 171 45 18 257 278 394 392 89 75 303 438 493 467 2]\n"
     ]
    }
   ],
   "source": [
    "print(X[:,1])"
   ]
  },
  {
   "cell_type": "code",
   "execution_count": 213,
   "metadata": {},
   "outputs": [],
   "source": [
    "en=LabelEncoder()\n"
   ]
  },
  {
   "cell_type": "code",
   "execution_count": 216,
   "metadata": {},
   "outputs": [],
   "source": [
    "X[:, 0] = en.fit_transform(X[:, 0])"
   ]
  },
  {
   "cell_type": "code",
   "execution_count": 218,
   "metadata": {},
   "outputs": [
    {
     "data": {
      "text/plain": [
       "array([[0, 474, 485873],\n",
       "       [1, 72, 223604],\n",
       "       [2, 46, 215639],\n",
       "       ...,\n",
       "       [497, 493, 5169],\n",
       "       [498, 467, 5164],\n",
       "       [499, 2, 5145]], dtype=object)"
      ]
     },
     "execution_count": 218,
     "metadata": {},
     "output_type": "execute_result"
    }
   ],
   "source": [
    "X"
   ]
  },
  {
   "cell_type": "code",
   "execution_count": null,
   "metadata": {},
   "outputs": [],
   "source": []
  }
 ],
 "metadata": {
  "kernelspec": {
   "display_name": "Python 3",
   "language": "python",
   "name": "python3"
  },
  "language_info": {
   "codemirror_mode": {
    "name": "ipython",
    "version": 3
   },
   "file_extension": ".py",
   "mimetype": "text/x-python",
   "name": "python",
   "nbconvert_exporter": "python",
   "pygments_lexer": "ipython3",
   "version": "3.8.3"
  }
 },
 "nbformat": 4,
 "nbformat_minor": 4
}
